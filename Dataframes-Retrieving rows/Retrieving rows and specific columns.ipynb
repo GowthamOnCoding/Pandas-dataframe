{
 "cells": [
  {
   "cell_type": "markdown",
   "metadata": {},
   "source": [
    "# Retrieving rows and specific columns"
   ]
  },
  {
   "cell_type": "code",
   "execution_count": 14,
   "metadata": {},
   "outputs": [
    {
     "data": {
      "text/html": [
       "<div>\n",
       "<style scoped>\n",
       "    .dataframe tbody tr th:only-of-type {\n",
       "        vertical-align: middle;\n",
       "    }\n",
       "\n",
       "    .dataframe tbody tr th {\n",
       "        vertical-align: top;\n",
       "    }\n",
       "\n",
       "    .dataframe thead th {\n",
       "        text-align: right;\n",
       "    }\n",
       "</style>\n",
       "<table border=\"1\" class=\"dataframe\">\n",
       "  <thead>\n",
       "    <tr style=\"text-align: right;\">\n",
       "      <th></th>\n",
       "      <th>Year</th>\n",
       "      <th>Actor</th>\n",
       "      <th>Director</th>\n",
       "      <th>Box Office</th>\n",
       "      <th>Budget</th>\n",
       "      <th>Bond Actor Salary</th>\n",
       "    </tr>\n",
       "    <tr>\n",
       "      <th>Film</th>\n",
       "      <th></th>\n",
       "      <th></th>\n",
       "      <th></th>\n",
       "      <th></th>\n",
       "      <th></th>\n",
       "      <th></th>\n",
       "    </tr>\n",
       "  </thead>\n",
       "  <tbody>\n",
       "    <tr>\n",
       "      <th>A View to a Kill</th>\n",
       "      <td>1985</td>\n",
       "      <td>Roger Moore</td>\n",
       "      <td>John Glen</td>\n",
       "      <td>275.2</td>\n",
       "      <td>54.5</td>\n",
       "      <td>9.1</td>\n",
       "    </tr>\n",
       "    <tr>\n",
       "      <th>Casino Royale</th>\n",
       "      <td>2006</td>\n",
       "      <td>Daniel Craig</td>\n",
       "      <td>Martin Campbell</td>\n",
       "      <td>581.5</td>\n",
       "      <td>145.3</td>\n",
       "      <td>3.3</td>\n",
       "    </tr>\n",
       "    <tr>\n",
       "      <th>Casino Royale</th>\n",
       "      <td>1967</td>\n",
       "      <td>David Niven</td>\n",
       "      <td>Ken Hughes</td>\n",
       "      <td>315.0</td>\n",
       "      <td>85.0</td>\n",
       "      <td>NaN</td>\n",
       "    </tr>\n",
       "    <tr>\n",
       "      <th>Diamonds Are Forever</th>\n",
       "      <td>1971</td>\n",
       "      <td>Sean Connery</td>\n",
       "      <td>Guy Hamilton</td>\n",
       "      <td>442.5</td>\n",
       "      <td>34.7</td>\n",
       "      <td>5.8</td>\n",
       "    </tr>\n",
       "    <tr>\n",
       "      <th>Die Another Day</th>\n",
       "      <td>2002</td>\n",
       "      <td>Pierce Brosnan</td>\n",
       "      <td>Lee Tamahori</td>\n",
       "      <td>465.4</td>\n",
       "      <td>154.2</td>\n",
       "      <td>17.9</td>\n",
       "    </tr>\n",
       "  </tbody>\n",
       "</table>\n",
       "</div>"
      ],
      "text/plain": [
       "                      Year           Actor  ... Budget  Bond Actor Salary\n",
       "Film                                        ...                          \n",
       "A View to a Kill      1985     Roger Moore  ...   54.5                9.1\n",
       "Casino Royale         2006    Daniel Craig  ...  145.3                3.3\n",
       "Casino Royale         1967     David Niven  ...   85.0                NaN\n",
       "Diamonds Are Forever  1971    Sean Connery  ...   34.7                5.8\n",
       "Die Another Day       2002  Pierce Brosnan  ...  154.2               17.9\n",
       "\n",
       "[5 rows x 6 columns]"
      ]
     },
     "execution_count": 14,
     "metadata": {},
     "output_type": "execute_result"
    }
   ],
   "source": [
    "import pandas as pd\n",
    "bond=pd.read_csv(\"jamesbond.csv\",index_col=\"Film\")\n",
    "bond.sort_index(inplace=True)\n",
    "bond.head()"
   ]
  },
  {
   "cell_type": "code",
   "execution_count": 15,
   "metadata": {},
   "outputs": [
    {
     "data": {
      "text/plain": [
       "Year                          1965\n",
       "Actor                 Sean Connery\n",
       "Director             Terence Young\n",
       "Box Office                   848.1\n",
       "Budget                        41.9\n",
       "Bond Actor Salary              4.7\n",
       "Name: Thunderball, dtype: object"
      ]
     },
     "execution_count": 15,
     "metadata": {},
     "output_type": "execute_result"
    }
   ],
   "source": [
    "#Lets try to retrieve Thunderball index lable using loc\n",
    "bond.loc[\"Thunderball\"]"
   ]
  },
  {
   "cell_type": "raw",
   "metadata": {},
   "source": [
    "We can see by default, it is returning all the columns corresponding to that row but most of the time\n",
    "we may require only selective columns and not all, this we can acheive by using the second arguement to the loc,iloc and ix"
   ]
  },
  {
   "cell_type": "code",
   "execution_count": 16,
   "metadata": {},
   "outputs": [
    {
     "data": {
      "text/plain": [
       "18.6"
      ]
     },
     "execution_count": 16,
     "metadata": {},
     "output_type": "execute_result"
    }
   ],
   "source": [
    "#Retrieving selective columns using loc\n",
    "bond.loc[\"Goldfinger\",\"Budget\"]"
   ]
  },
  {
   "cell_type": "code",
   "execution_count": 17,
   "metadata": {},
   "outputs": [
    {
     "data": {
      "text/html": [
       "<div>\n",
       "<style scoped>\n",
       "    .dataframe tbody tr th:only-of-type {\n",
       "        vertical-align: middle;\n",
       "    }\n",
       "\n",
       "    .dataframe tbody tr th {\n",
       "        vertical-align: top;\n",
       "    }\n",
       "\n",
       "    .dataframe thead th {\n",
       "        text-align: right;\n",
       "    }\n",
       "</style>\n",
       "<table border=\"1\" class=\"dataframe\">\n",
       "  <thead>\n",
       "    <tr style=\"text-align: right;\">\n",
       "      <th></th>\n",
       "      <th>Actor</th>\n",
       "      <th>Director</th>\n",
       "    </tr>\n",
       "    <tr>\n",
       "      <th>Film</th>\n",
       "      <th></th>\n",
       "      <th></th>\n",
       "    </tr>\n",
       "  </thead>\n",
       "  <tbody>\n",
       "    <tr>\n",
       "      <th>Goldfinger</th>\n",
       "      <td>Sean Connery</td>\n",
       "      <td>Guy Hamilton</td>\n",
       "    </tr>\n",
       "    <tr>\n",
       "      <th>Licence to Kill</th>\n",
       "      <td>Timothy Dalton</td>\n",
       "      <td>John Glen</td>\n",
       "    </tr>\n",
       "    <tr>\n",
       "      <th>Live and Let Die</th>\n",
       "      <td>Roger Moore</td>\n",
       "      <td>Guy Hamilton</td>\n",
       "    </tr>\n",
       "    <tr>\n",
       "      <th>Moonraker</th>\n",
       "      <td>Roger Moore</td>\n",
       "      <td>Lewis Gilbert</td>\n",
       "    </tr>\n",
       "    <tr>\n",
       "      <th>Never Say Never Again</th>\n",
       "      <td>Sean Connery</td>\n",
       "      <td>Irvin Kershner</td>\n",
       "    </tr>\n",
       "    <tr>\n",
       "      <th>Octopussy</th>\n",
       "      <td>Roger Moore</td>\n",
       "      <td>John Glen</td>\n",
       "    </tr>\n",
       "    <tr>\n",
       "      <th>On Her Majesty's Secret Service</th>\n",
       "      <td>George Lazenby</td>\n",
       "      <td>Peter R. Hunt</td>\n",
       "    </tr>\n",
       "    <tr>\n",
       "      <th>Quantum of Solace</th>\n",
       "      <td>Daniel Craig</td>\n",
       "      <td>Marc Forster</td>\n",
       "    </tr>\n",
       "    <tr>\n",
       "      <th>Skyfall</th>\n",
       "      <td>Daniel Craig</td>\n",
       "      <td>Sam Mendes</td>\n",
       "    </tr>\n",
       "    <tr>\n",
       "      <th>Spectre</th>\n",
       "      <td>Daniel Craig</td>\n",
       "      <td>Sam Mendes</td>\n",
       "    </tr>\n",
       "    <tr>\n",
       "      <th>The Living Daylights</th>\n",
       "      <td>Timothy Dalton</td>\n",
       "      <td>John Glen</td>\n",
       "    </tr>\n",
       "    <tr>\n",
       "      <th>The Man with the Golden Gun</th>\n",
       "      <td>Roger Moore</td>\n",
       "      <td>Guy Hamilton</td>\n",
       "    </tr>\n",
       "    <tr>\n",
       "      <th>The Spy Who Loved Me</th>\n",
       "      <td>Roger Moore</td>\n",
       "      <td>Lewis Gilbert</td>\n",
       "    </tr>\n",
       "    <tr>\n",
       "      <th>The World Is Not Enough</th>\n",
       "      <td>Pierce Brosnan</td>\n",
       "      <td>Michael Apted</td>\n",
       "    </tr>\n",
       "    <tr>\n",
       "      <th>Thunderball</th>\n",
       "      <td>Sean Connery</td>\n",
       "      <td>Terence Young</td>\n",
       "    </tr>\n",
       "  </tbody>\n",
       "</table>\n",
       "</div>"
      ],
      "text/plain": [
       "                                          Actor        Director\n",
       "Film                                                           \n",
       "Goldfinger                         Sean Connery    Guy Hamilton\n",
       "Licence to Kill                  Timothy Dalton       John Glen\n",
       "Live and Let Die                    Roger Moore    Guy Hamilton\n",
       "Moonraker                           Roger Moore   Lewis Gilbert\n",
       "Never Say Never Again              Sean Connery  Irvin Kershner\n",
       "Octopussy                           Roger Moore       John Glen\n",
       "On Her Majesty's Secret Service  George Lazenby   Peter R. Hunt\n",
       "Quantum of Solace                  Daniel Craig    Marc Forster\n",
       "Skyfall                            Daniel Craig      Sam Mendes\n",
       "Spectre                            Daniel Craig      Sam Mendes\n",
       "The Living Daylights             Timothy Dalton       John Glen\n",
       "The Man with the Golden Gun         Roger Moore    Guy Hamilton\n",
       "The Spy Who Loved Me                Roger Moore   Lewis Gilbert\n",
       "The World Is Not Enough          Pierce Brosnan   Michael Apted\n",
       "Thunderball                        Sean Connery   Terence Young"
      ]
     },
     "execution_count": 17,
     "metadata": {},
     "output_type": "execute_result"
    }
   ],
   "source": [
    "bond.loc[\"Goldfinger\":\"Thunderball\",[\"Actor\",\"Director\"]]"
   ]
  },
  {
   "cell_type": "code",
   "execution_count": 18,
   "metadata": {},
   "outputs": [
    {
     "data": {
      "text/html": [
       "<div>\n",
       "<style scoped>\n",
       "    .dataframe tbody tr th:only-of-type {\n",
       "        vertical-align: middle;\n",
       "    }\n",
       "\n",
       "    .dataframe tbody tr th {\n",
       "        vertical-align: top;\n",
       "    }\n",
       "\n",
       "    .dataframe thead th {\n",
       "        text-align: right;\n",
       "    }\n",
       "</style>\n",
       "<table border=\"1\" class=\"dataframe\">\n",
       "  <thead>\n",
       "    <tr style=\"text-align: right;\">\n",
       "      <th></th>\n",
       "      <th>Year</th>\n",
       "      <th>Actor</th>\n",
       "      <th>Director</th>\n",
       "    </tr>\n",
       "    <tr>\n",
       "      <th>Film</th>\n",
       "      <th></th>\n",
       "      <th></th>\n",
       "      <th></th>\n",
       "    </tr>\n",
       "  </thead>\n",
       "  <tbody>\n",
       "    <tr>\n",
       "      <th>Dr. No</th>\n",
       "      <td>1962</td>\n",
       "      <td>Sean Connery</td>\n",
       "      <td>Terence Young</td>\n",
       "    </tr>\n",
       "    <tr>\n",
       "      <th>Casino Royale</th>\n",
       "      <td>2006</td>\n",
       "      <td>Daniel Craig</td>\n",
       "      <td>Martin Campbell</td>\n",
       "    </tr>\n",
       "    <tr>\n",
       "      <th>Casino Royale</th>\n",
       "      <td>1967</td>\n",
       "      <td>David Niven</td>\n",
       "      <td>Ken Hughes</td>\n",
       "    </tr>\n",
       "  </tbody>\n",
       "</table>\n",
       "</div>"
      ],
      "text/plain": [
       "               Year         Actor         Director\n",
       "Film                                              \n",
       "Dr. No         1962  Sean Connery    Terence Young\n",
       "Casino Royale  2006  Daniel Craig  Martin Campbell\n",
       "Casino Royale  1967   David Niven       Ken Hughes"
      ]
     },
     "execution_count": 18,
     "metadata": {},
     "output_type": "execute_result"
    }
   ],
   "source": [
    "bond.loc[[\"Dr. No\",\"Casino Royale\"],\"Year\":\"Director\"]"
   ]
  },
  {
   "cell_type": "code",
   "execution_count": 19,
   "metadata": {},
   "outputs": [
    {
     "data": {
      "text/html": [
       "<div>\n",
       "<style scoped>\n",
       "    .dataframe tbody tr th:only-of-type {\n",
       "        vertical-align: middle;\n",
       "    }\n",
       "\n",
       "    .dataframe tbody tr th {\n",
       "        vertical-align: top;\n",
       "    }\n",
       "\n",
       "    .dataframe thead th {\n",
       "        text-align: right;\n",
       "    }\n",
       "</style>\n",
       "<table border=\"1\" class=\"dataframe\">\n",
       "  <thead>\n",
       "    <tr style=\"text-align: right;\">\n",
       "      <th></th>\n",
       "      <th>Year</th>\n",
       "      <th>Actor</th>\n",
       "    </tr>\n",
       "    <tr>\n",
       "      <th>Film</th>\n",
       "      <th></th>\n",
       "      <th></th>\n",
       "    </tr>\n",
       "  </thead>\n",
       "  <tbody>\n",
       "    <tr>\n",
       "      <th>Licence to Kill</th>\n",
       "      <td>1989</td>\n",
       "      <td>Timothy Dalton</td>\n",
       "    </tr>\n",
       "    <tr>\n",
       "      <th>Live and Let Die</th>\n",
       "      <td>1973</td>\n",
       "      <td>Roger Moore</td>\n",
       "    </tr>\n",
       "    <tr>\n",
       "      <th>Moonraker</th>\n",
       "      <td>1979</td>\n",
       "      <td>Roger Moore</td>\n",
       "    </tr>\n",
       "    <tr>\n",
       "      <th>Never Say Never Again</th>\n",
       "      <td>1983</td>\n",
       "      <td>Sean Connery</td>\n",
       "    </tr>\n",
       "    <tr>\n",
       "      <th>Octopussy</th>\n",
       "      <td>1983</td>\n",
       "      <td>Roger Moore</td>\n",
       "    </tr>\n",
       "  </tbody>\n",
       "</table>\n",
       "</div>"
      ],
      "text/plain": [
       "                       Year           Actor\n",
       "Film                                       \n",
       "Licence to Kill        1989  Timothy Dalton\n",
       "Live and Let Die       1973     Roger Moore\n",
       "Moonraker              1979     Roger Moore\n",
       "Never Say Never Again  1983    Sean Connery\n",
       "Octopussy              1983     Roger Moore"
      ]
     },
     "execution_count": 19,
     "metadata": {},
     "output_type": "execute_result"
    }
   ],
   "source": [
    "#Retrieving selective columns using iloc\n",
    "bond.iloc[10:15,0:2]"
   ]
  },
  {
   "cell_type": "code",
   "execution_count": 21,
   "metadata": {},
   "outputs": [
    {
     "data": {
      "text/html": [
       "<div>\n",
       "<style scoped>\n",
       "    .dataframe tbody tr th:only-of-type {\n",
       "        vertical-align: middle;\n",
       "    }\n",
       "\n",
       "    .dataframe tbody tr th {\n",
       "        vertical-align: top;\n",
       "    }\n",
       "\n",
       "    .dataframe thead th {\n",
       "        text-align: right;\n",
       "    }\n",
       "</style>\n",
       "<table border=\"1\" class=\"dataframe\">\n",
       "  <thead>\n",
       "    <tr style=\"text-align: right;\">\n",
       "      <th></th>\n",
       "      <th>Actor</th>\n",
       "      <th>Director</th>\n",
       "      <th>Budget</th>\n",
       "    </tr>\n",
       "    <tr>\n",
       "      <th>Film</th>\n",
       "      <th></th>\n",
       "      <th></th>\n",
       "      <th></th>\n",
       "    </tr>\n",
       "  </thead>\n",
       "  <tbody>\n",
       "    <tr>\n",
       "      <th>A View to a Kill</th>\n",
       "      <td>Roger Moore</td>\n",
       "      <td>John Glen</td>\n",
       "      <td>54.5</td>\n",
       "    </tr>\n",
       "    <tr>\n",
       "      <th>Casino Royale</th>\n",
       "      <td>David Niven</td>\n",
       "      <td>Ken Hughes</td>\n",
       "      <td>85.0</td>\n",
       "    </tr>\n",
       "    <tr>\n",
       "      <th>Die Another Day</th>\n",
       "      <td>Pierce Brosnan</td>\n",
       "      <td>Lee Tamahori</td>\n",
       "      <td>154.2</td>\n",
       "    </tr>\n",
       "    <tr>\n",
       "      <th>Dr. No</th>\n",
       "      <td>Sean Connery</td>\n",
       "      <td>Terence Young</td>\n",
       "      <td>7.0</td>\n",
       "    </tr>\n",
       "    <tr>\n",
       "      <th>On Her Majesty's Secret Service</th>\n",
       "      <td>George Lazenby</td>\n",
       "      <td>Peter R. Hunt</td>\n",
       "      <td>37.3</td>\n",
       "    </tr>\n",
       "  </tbody>\n",
       "</table>\n",
       "</div>"
      ],
      "text/plain": [
       "                                          Actor       Director  Budget\n",
       "Film                                                                  \n",
       "A View to a Kill                    Roger Moore      John Glen    54.5\n",
       "Casino Royale                       David Niven     Ken Hughes    85.0\n",
       "Die Another Day                  Pierce Brosnan   Lee Tamahori   154.2\n",
       "Dr. No                             Sean Connery  Terence Young     7.0\n",
       "On Her Majesty's Secret Service  George Lazenby  Peter R. Hunt    37.3"
      ]
     },
     "execution_count": 21,
     "metadata": {},
     "output_type": "execute_result"
    }
   ],
   "source": [
    "bond.iloc[[0,2,4,5,15],[1,2,4]]"
   ]
  },
  {
   "cell_type": "code",
   "execution_count": 22,
   "metadata": {},
   "outputs": [
    {
     "name": "stderr",
     "output_type": "stream",
     "text": [
      "C:\\Users\\Gowtham\\Anaconda3\\lib\\site-packages\\ipykernel_launcher.py:2: DeprecationWarning: \n",
      ".ix is deprecated. Please use\n",
      ".loc for label based indexing or\n",
      ".iloc for positional indexing\n",
      "\n",
      "See the documentation here:\n",
      "http://pandas.pydata.org/pandas-docs/stable/indexing.html#ix-indexer-is-deprecated\n",
      "  \n"
     ]
    },
    {
     "data": {
      "text/html": [
       "<div>\n",
       "<style scoped>\n",
       "    .dataframe tbody tr th:only-of-type {\n",
       "        vertical-align: middle;\n",
       "    }\n",
       "\n",
       "    .dataframe tbody tr th {\n",
       "        vertical-align: top;\n",
       "    }\n",
       "\n",
       "    .dataframe thead th {\n",
       "        text-align: right;\n",
       "    }\n",
       "</style>\n",
       "<table border=\"1\" class=\"dataframe\">\n",
       "  <thead>\n",
       "    <tr style=\"text-align: right;\">\n",
       "      <th></th>\n",
       "      <th>Year</th>\n",
       "      <th>Director</th>\n",
       "      <th>Director</th>\n",
       "    </tr>\n",
       "    <tr>\n",
       "      <th>Film</th>\n",
       "      <th></th>\n",
       "      <th></th>\n",
       "      <th></th>\n",
       "    </tr>\n",
       "  </thead>\n",
       "  <tbody>\n",
       "    <tr>\n",
       "      <th>Never Say Never Again</th>\n",
       "      <td>1983</td>\n",
       "      <td>Irvin Kershner</td>\n",
       "      <td>Irvin Kershner</td>\n",
       "    </tr>\n",
       "    <tr>\n",
       "      <th>Licence to Kill</th>\n",
       "      <td>1989</td>\n",
       "      <td>John Glen</td>\n",
       "      <td>John Glen</td>\n",
       "    </tr>\n",
       "  </tbody>\n",
       "</table>\n",
       "</div>"
      ],
      "text/plain": [
       "                       Year        Director        Director\n",
       "Film                                                       \n",
       "Never Say Never Again  1983  Irvin Kershner  Irvin Kershner\n",
       "Licence to Kill        1989       John Glen       John Glen"
      ]
     },
     "execution_count": 22,
     "metadata": {},
     "output_type": "execute_result"
    }
   ],
   "source": [
    "#Retrieving selective columns using ix\n",
    "#By using ix, you can mix both index labels and postions\n",
    "bond.ix[[\"Never Say Never Again\",\"Licence to Kill\"],[0,2,2]]"
   ]
  },
  {
   "cell_type": "code",
   "execution_count": null,
   "metadata": {},
   "outputs": [],
   "source": []
  },
  {
   "cell_type": "code",
   "execution_count": null,
   "metadata": {},
   "outputs": [],
   "source": []
  },
  {
   "cell_type": "code",
   "execution_count": null,
   "metadata": {},
   "outputs": [],
   "source": []
  },
  {
   "cell_type": "code",
   "execution_count": null,
   "metadata": {},
   "outputs": [],
   "source": []
  },
  {
   "cell_type": "code",
   "execution_count": null,
   "metadata": {},
   "outputs": [],
   "source": []
  },
  {
   "cell_type": "code",
   "execution_count": null,
   "metadata": {},
   "outputs": [],
   "source": []
  },
  {
   "cell_type": "code",
   "execution_count": null,
   "metadata": {},
   "outputs": [],
   "source": []
  }
 ],
 "metadata": {
  "kernelspec": {
   "display_name": "Python 3",
   "language": "python",
   "name": "python3"
  },
  "language_info": {
   "codemirror_mode": {
    "name": "ipython",
    "version": 3
   },
   "file_extension": ".py",
   "mimetype": "text/x-python",
   "name": "python",
   "nbconvert_exporter": "python",
   "pygments_lexer": "ipython3",
   "version": "3.7.3"
  }
 },
 "nbformat": 4,
 "nbformat_minor": 2
}
